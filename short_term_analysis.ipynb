{
 "cells": [
  {
   "cell_type": "code",
   "execution_count": 1,
   "metadata": {},
   "outputs": [
    {
     "name": "stdout",
     "output_type": "stream",
     "text": [
      "(677, 8)\n"
     ]
    }
   ],
   "source": [
    "import pandas as pd\n",
    "import numpy as np\n",
    "\n",
    "df = pd.read_csv(\"./short_term_stability.tsv\", sep=\"\\t\")\n",
    "print(df.shape)"
   ]
  },
  {
   "cell_type": "code",
   "execution_count": 2,
   "metadata": {},
   "outputs": [
    {
     "name": "stdout",
     "output_type": "stream",
     "text": [
      "(334, 8)\n"
     ]
    }
   ],
   "source": [
    "# Define the r_history values to filter\n",
    "r_history_values = [\"1\", \"2\", \"3\", \"1,2\", \"1,3\", \"3,2\"]\n",
    "\n",
    "# Group by user_id and filter\n",
    "filtered_user_ids = df.groupby('user').filter(lambda x: all(item in x['r_history'].values for item in r_history_values))\n",
    "\n",
    "# Extract the user_ids\n",
    "filtered_user_ids = filtered_user_ids['user'].unique()\n",
    "\n",
    "# Filter the original DataFrame to keep only the filtered user_ids\n",
    "df = df[df['user'].isin(filtered_user_ids)]\n",
    "\n",
    "print(df.shape)"
   ]
  },
  {
   "cell_type": "code",
   "execution_count": 3,
   "metadata": {},
   "outputs": [
    {
     "name": "stdout",
     "output_type": "stream",
     "text": [
      "Unit: seconds\n",
      "\n",
      "First Rating: Again\n",
      "        average_retention  average_delta_t   stability\n",
      "mean             0.764881      1773.884615   85.615385\n",
      "median           0.785900       120.500000   45.500000\n",
      "std              0.139242      4861.806482  116.872607\n",
      "First Rating: Hard\n",
      "        average_retention  average_delta_t      stability\n",
      "mean             0.923796     6.011750e+05   38914.269231\n",
      "median           0.939550     6.955000e+02    1528.500000\n",
      "std              0.062779     2.979153e+06  150373.554182\n",
      "First Rating: Good\n",
      "        average_retention  average_delta_t      stability\n",
      "mean             0.967369     73973.961538  149755.115385\n",
      "median           0.977800       935.000000   19534.500000\n",
      "std              0.035931    217329.041093  447254.539775\n"
     ]
    }
   ],
   "source": [
    "print(\"Unit: seconds\\n\")\n",
    "\n",
    "print(\"First Rating: Again\")\n",
    "print(df[(df[\"r_history\"] == \"1\")][[\"average_retention\", \"average_delta_t\", \"stability\"]].agg([\"mean\", \"median\", \"std\"]))\n",
    "print(\"First Rating: Hard\")\n",
    "print(df[(df[\"r_history\"] == \"2\")][[\"average_retention\", \"average_delta_t\", \"stability\"]].agg([\"mean\", \"median\", \"std\"]))\n",
    "print(\"First Rating: Good\")\n",
    "print(df[(df[\"r_history\"] == \"3\")][[\"average_retention\", \"average_delta_t\", \"stability\"]].agg([\"mean\", \"median\", \"std\"]))"
   ]
  },
  {
   "cell_type": "code",
   "execution_count": 4,
   "metadata": {},
   "outputs": [
    {
     "name": "stdout",
     "output_type": "stream",
     "text": [
      "Unit: seconds\n",
      "\n",
      "     average_retention  average_delta_t  stability\n",
      "0.0            0.33430             42.0        4.0\n",
      "0.1            0.64005             80.5       19.5\n",
      "0.2            0.68700             89.0       23.0\n",
      "0.3            0.71460             97.5       25.0\n",
      "0.4            0.75800            109.0       31.0\n",
      "0.5            0.78590            120.5       45.5\n",
      "0.6            0.80740            154.0       64.0\n",
      "0.7            0.84115            193.0       71.5\n",
      "0.8            0.88280            250.0      139.0\n",
      "0.9            0.90655           3963.0      178.5\n",
      "1.0            0.95590          21182.0      567.0\n",
      "     average_retention  average_delta_t  stability\n",
      "0.0            0.75230             47.0      244.0\n",
      "0.1            0.84035            185.5      318.0\n",
      "0.2            0.88000            299.0      528.0\n",
      "0.3            0.89665            443.0      657.5\n",
      "0.4            0.92060            508.0      971.0\n",
      "0.5            0.93955            695.5     1528.5\n",
      "0.6            0.94530           1056.0     1691.0\n",
      "0.7            0.97385           8919.0    10916.0\n",
      "0.8            0.97960          24477.0    19081.0\n",
      "0.9            0.98850          82697.5    44181.0\n",
      "1.0            0.99830       15206799.0   772414.0\n",
      "     average_retention  average_delta_t  stability\n",
      "0.0            0.85890             81.0      465.0\n",
      "0.1            0.92305            237.0     1288.0\n",
      "0.2            0.95420            369.0     1952.0\n",
      "0.3            0.96495            484.0     2669.5\n",
      "0.4            0.97060            691.0     3678.0\n",
      "0.5            0.97780            935.0    19534.5\n",
      "0.6            0.98510           1570.0    26563.0\n",
      "0.7            0.98830           8791.0    36639.0\n",
      "0.8            0.99530          38018.0   114111.0\n",
      "0.9            0.99780         190000.5   298878.5\n",
      "1.0            1.00000        1053830.0  2271992.0\n"
     ]
    }
   ],
   "source": [
    "print(\"Unit: seconds\\n\")\n",
    "\n",
    "print(df[(df[\"r_history\"] == \"1\")][[\"average_retention\", \"average_delta_t\", \"stability\"]].quantile(np.linspace(0, 1, 11)))\n",
    "print(df[(df[\"r_history\"] == \"2\")][[\"average_retention\", \"average_delta_t\", \"stability\"]].quantile(np.linspace(0, 1, 11)))\n",
    "print(df[(df[\"r_history\"] == \"3\")][[\"average_retention\", \"average_delta_t\", \"stability\"]].quantile(np.linspace(0, 1, 11)))"
   ]
  },
  {
   "cell_type": "code",
   "execution_count": 5,
   "metadata": {},
   "outputs": [
    {
     "name": "stdout",
     "output_type": "stream",
     "text": [
      "Unit: seconds\n",
      "\n",
      "        average_retention  average_delta_t     stability\n",
      "mean             0.913058     61741.730769  22916.615385\n",
      "median           0.929350       835.000000   2080.500000\n",
      "std              0.073649    177610.625580  53990.538300\n",
      "     average_retention  average_delta_t  stability\n",
      "0.0            0.65620             45.0      209.0\n",
      "0.1            0.83320            353.5      476.0\n",
      "0.2            0.87040            435.0      839.0\n",
      "0.3            0.89600            574.0     1065.0\n",
      "0.4            0.91730            708.0     1465.0\n",
      "0.5            0.92935            835.0     2080.5\n",
      "0.6            0.94530           1470.0     4723.0\n",
      "0.7            0.95615          12882.0    10556.5\n",
      "0.8            0.96540          60771.0    20529.0\n",
      "0.9            0.97835         107163.0    48083.5\n",
      "1.0            1.00000         864512.0   247129.0\n"
     ]
    }
   ],
   "source": [
    "print(\"Unit: seconds\\n\")\n",
    "\n",
    "print(df[(df[\"r_history\"] == \"1,3\")][[\"average_retention\", \"average_delta_t\", \"stability\"]].agg([\"mean\", \"median\", \"std\"]))\n",
    "print(df[(df[\"r_history\"] == \"1,3\")][[\"average_retention\", \"average_delta_t\", \"stability\"]].quantile(np.linspace(0, 1, 11)))"
   ]
  },
  {
   "cell_type": "code",
   "execution_count": 6,
   "metadata": {},
   "outputs": [
    {
     "name": "stdout",
     "output_type": "stream",
     "text": [
      "Unit: seconds\n",
      "\n",
      "        average_retention  average_delta_t     stability\n",
      "mean             0.866904     1.018824e+06  10360.076923\n",
      "median           0.896300     8.065000e+02    700.500000\n",
      "std              0.112392     5.052964e+06  20067.460349\n",
      "     average_retention  average_delta_t  stability\n",
      "0.0            0.48600             31.0       42.0\n",
      "0.1            0.74155            186.5      181.5\n",
      "0.2            0.79540            341.0      268.0\n",
      "0.3            0.83885            447.5      303.5\n",
      "0.4            0.88990            482.0      397.0\n",
      "0.5            0.89630            806.5      700.5\n",
      "0.6            0.92310            955.0     1025.0\n",
      "0.7            0.93570          19027.0     8942.5\n",
      "0.8            0.94290          63219.0    15043.0\n",
      "0.9            0.96405          90027.0    24528.0\n",
      "1.0            1.00000       25791122.0    88005.0\n"
     ]
    }
   ],
   "source": [
    "print(\"Unit: seconds\\n\")\n",
    "\n",
    "print(df[(df[\"r_history\"] == \"1,2\")][[\"average_retention\", \"average_delta_t\", \"stability\"]].agg([\"mean\", \"median\", \"std\"]))\n",
    "print(df[(df[\"r_history\"] == \"1,2\")][[\"average_retention\", \"average_delta_t\", \"stability\"]].quantile(np.linspace(0, 1, 11)))"
   ]
  },
  {
   "cell_type": "code",
   "execution_count": 7,
   "metadata": {},
   "outputs": [
    {
     "name": "stdout",
     "output_type": "stream",
     "text": [
      "Unit: seconds\n",
      "\n",
      "        average_retention  average_delta_t      stability\n",
      "mean             0.959681    139295.384615   87895.192308\n",
      "median           0.971500      2448.500000   15466.500000\n",
      "std              0.047896    364463.634024  155276.193252\n",
      "     average_retention  average_delta_t  stability\n",
      "0.0             0.8076             27.0      476.0\n",
      "0.1             0.8932            206.5     1465.0\n",
      "0.2             0.9375            633.0     2575.0\n",
      "0.3             0.9484            793.5     4082.0\n",
      "0.4             0.9608           1145.0     6926.0\n",
      "0.5             0.9715           2448.5    15466.5\n",
      "0.6             0.9851          16390.0    56269.0\n",
      "0.7             0.9972          90052.5    76114.0\n",
      "0.8             1.0000         177664.0   131393.0\n",
      "0.9             1.0000         296457.0   202072.0\n",
      "1.0             1.0000        1824657.0   609572.0\n"
     ]
    }
   ],
   "source": [
    "print(\"Unit: seconds\\n\")\n",
    "\n",
    "print(df[(df[\"r_history\"] == \"3,2\")][[\"average_retention\", \"average_delta_t\", \"stability\"]].agg([\"mean\", \"median\", \"std\"]))\n",
    "print(df[(df[\"r_history\"] == \"3,2\")][[\"average_retention\", \"average_delta_t\", \"stability\"]].quantile(np.linspace(0, 1, 11)))"
   ]
  }
 ],
 "metadata": {
  "kernelspec": {
   "display_name": "fsrs4anki",
   "language": "python",
   "name": "python3"
  },
  "language_info": {
   "codemirror_mode": {
    "name": "ipython",
    "version": 3
   },
   "file_extension": ".py",
   "mimetype": "text/x-python",
   "name": "python",
   "nbconvert_exporter": "python",
   "pygments_lexer": "ipython3",
   "version": "3.9.16"
  }
 },
 "nbformat": 4,
 "nbformat_minor": 2
}
