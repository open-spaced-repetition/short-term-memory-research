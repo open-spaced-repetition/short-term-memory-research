{
 "cells": [
  {
   "cell_type": "code",
   "execution_count": 1,
   "metadata": {},
   "outputs": [
    {
     "name": "stdout",
     "output_type": "stream",
     "text": [
      "(679, 9)\n"
     ]
    }
   ],
   "source": [
    "import pandas as pd\n",
    "import numpy as np\n",
    "\n",
    "df = pd.read_csv(\"./short_term_stability.tsv\", sep=\"\\t\")\n",
    "print(df.shape)"
   ]
  },
  {
   "cell_type": "code",
   "execution_count": 2,
   "metadata": {},
   "outputs": [
    {
     "name": "stdout",
     "output_type": "stream",
     "text": [
      "(426, 9)\n"
     ]
    }
   ],
   "source": [
    "# Define the r_history values to filter\n",
    "r_history_values = [\"1\", \"2\", \"3\", \"1,2\", \"1,3\", \"3,2\"]\n",
    "\n",
    "# Group by user_id and filter\n",
    "filtered_user_ids = df.groupby(\"user\").filter(\n",
    "    lambda x: all(item in x[\"r_history\"].values for item in r_history_values)\n",
    ")\n",
    "\n",
    "# Extract the user_ids\n",
    "filtered_user_ids = filtered_user_ids[\"user\"].unique()\n",
    "\n",
    "# Filter the original DataFrame to keep only the filtered user_ids\n",
    "df = df[df[\"user\"].isin(filtered_user_ids)]\n",
    "\n",
    "print(df.shape)"
   ]
  },
  {
   "cell_type": "code",
   "execution_count": 3,
   "metadata": {},
   "outputs": [
    {
     "name": "stdout",
     "output_type": "stream",
     "text": [
      "Unit: seconds\n",
      "\n",
      "First Rating: Again\n",
      "        average_retention  median_delta_t   stability\n",
      "mean             0.743035      246.676471  202.647059\n",
      "median           0.777150      114.000000   67.500000\n",
      "std              0.146314      310.513623  340.372691\n",
      "First Rating: Hard\n",
      "        average_retention  median_delta_t      stability\n",
      "mean             0.923953    28071.441176  148462.911765\n",
      "median           0.953750      481.000000   15024.000000\n",
      "std              0.075201   135149.469688  360681.209679\n",
      "First Rating: Good\n",
      "        average_retention  median_delta_t     stability\n",
      "mean             0.962826    34414.117647  5.934497e+05\n",
      "median           0.971000      760.500000  1.055380e+05\n",
      "std              0.032451   158613.825968  1.256909e+06\n"
     ]
    }
   ],
   "source": [
    "print(\"Unit: seconds\\n\")\n",
    "\n",
    "print(\"First Rating: Again\")\n",
    "print(\n",
    "    df[(df[\"r_history\"] == \"1\")][\n",
    "        [\"average_retention\", \"median_delta_t\", \"stability\"]\n",
    "    ].agg([\"mean\", \"median\", \"std\"])\n",
    ")\n",
    "print(\"First Rating: Hard\")\n",
    "print(\n",
    "    df[(df[\"r_history\"] == \"2\")][\n",
    "        [\"average_retention\", \"median_delta_t\", \"stability\"]\n",
    "    ].agg([\"mean\", \"median\", \"std\"])\n",
    ")\n",
    "print(\"First Rating: Good\")\n",
    "print(\n",
    "    df[(df[\"r_history\"] == \"3\")][\n",
    "        [\"average_retention\", \"median_delta_t\", \"stability\"]\n",
    "    ].agg([\"mean\", \"median\", \"std\"])\n",
    ")"
   ]
  },
  {
   "cell_type": "code",
   "execution_count": 4,
   "metadata": {},
   "outputs": [
    {
     "name": "stdout",
     "output_type": "stream",
     "text": [
      "Unit: seconds\n",
      "\n",
      "     average_retention  median_delta_t  stability\n",
      "0.0            0.39480            78.0        5.0\n",
      "0.1            0.49495            83.3       12.5\n",
      "0.2            0.68348            88.2       27.8\n",
      "0.3            0.72364           101.7       39.9\n",
      "0.4            0.75004           107.0       56.6\n",
      "0.5            0.77715           114.0       67.5\n",
      "0.6            0.80396           124.0       95.4\n",
      "0.7            0.81786           135.6      147.9\n",
      "0.8            0.84298           266.8      274.0\n",
      "0.9            0.89179           772.6      609.4\n",
      "1.0            0.95160          1189.0     1774.0\n",
      "     average_retention  median_delta_t  stability\n",
      "0.0            0.71720           103.0      245.0\n",
      "0.1            0.85640           303.6     1282.7\n",
      "0.2            0.86676           408.2     2253.6\n",
      "0.3            0.92130           451.7     2734.6\n",
      "0.4            0.93700           467.4     8298.0\n",
      "0.5            0.95375           481.0    15024.0\n",
      "0.6            0.96104           528.8    26764.2\n",
      "0.7            0.96731           817.4    52852.1\n",
      "0.8            0.97522          1001.8   169752.6\n",
      "0.9            0.98773          7553.4   366268.7\n",
      "1.0            0.99920        786814.0  1918528.0\n",
      "     average_retention  median_delta_t  stability\n",
      "0.0            0.87410            91.0      194.0\n",
      "0.1            0.91769           431.6     4853.7\n",
      "0.2            0.94522           651.2     7835.2\n",
      "0.3            0.95247           696.3    26808.7\n",
      "0.4            0.96238           744.6    72570.2\n",
      "0.5            0.97100           760.5   105538.0\n",
      "0.6            0.97802           827.8   166620.4\n",
      "0.7            0.98496          1242.0   271414.4\n",
      "0.8            0.99088          1746.0   626648.8\n",
      "0.9            0.99326         34551.4  1742093.4\n",
      "1.0            1.00000        925440.0  5058247.0\n"
     ]
    }
   ],
   "source": [
    "print(\"Unit: seconds\\n\")\n",
    "\n",
    "print(\n",
    "    df[(df[\"r_history\"] == \"1\")][\n",
    "        [\"average_retention\", \"median_delta_t\", \"stability\"]\n",
    "    ].quantile(np.linspace(0, 1, 11))\n",
    ")\n",
    "print(\n",
    "    df[(df[\"r_history\"] == \"2\")][\n",
    "        [\"average_retention\", \"median_delta_t\", \"stability\"]\n",
    "    ].quantile(np.linspace(0, 1, 11))\n",
    ")\n",
    "print(\n",
    "    df[(df[\"r_history\"] == \"3\")][\n",
    "        [\"average_retention\", \"median_delta_t\", \"stability\"]\n",
    "    ].quantile(np.linspace(0, 1, 11))\n",
    ")"
   ]
  },
  {
   "cell_type": "code",
   "execution_count": 5,
   "metadata": {},
   "outputs": [
    {
     "name": "stdout",
     "output_type": "stream",
     "text": [
      "Unit: seconds\n",
      "\n",
      "        average_retention  median_delta_t      stability\n",
      "mean             0.911762    64036.911765   97893.676471\n",
      "median           0.917050      814.500000   12656.000000\n",
      "std              0.069775   239638.951745  357581.096588\n",
      "     average_retention  median_delta_t  stability\n",
      "0.0            0.73390            75.0      249.0\n",
      "0.1            0.81178           254.4      634.7\n",
      "0.2            0.87462           593.6     2476.4\n",
      "0.3            0.89058           695.4     5206.4\n",
      "0.4            0.90292           747.6     6605.6\n",
      "0.5            0.91705           814.5    12656.0\n",
      "0.6            0.94128           909.6    21780.8\n",
      "0.7            0.94994          1115.2    40773.0\n",
      "0.8            0.97622          2494.6    53975.4\n",
      "0.9            0.98898         85174.0   119328.7\n",
      "1.0            1.00000       1309002.0  2089169.0\n"
     ]
    }
   ],
   "source": [
    "print(\"Unit: seconds\\n\")\n",
    "\n",
    "print(\n",
    "    df[(df[\"r_history\"] == \"1,3\")][\n",
    "        [\"average_retention\", \"median_delta_t\", \"stability\"]\n",
    "    ].agg([\"mean\", \"median\", \"std\"])\n",
    ")\n",
    "print(\n",
    "    df[(df[\"r_history\"] == \"1,3\")][\n",
    "        [\"average_retention\", \"median_delta_t\", \"stability\"]\n",
    "    ].quantile(np.linspace(0, 1, 11))\n",
    ")"
   ]
  },
  {
   "cell_type": "code",
   "execution_count": 6,
   "metadata": {},
   "outputs": [
    {
     "name": "stdout",
     "output_type": "stream",
     "text": [
      "Unit: seconds\n",
      "\n",
      "        average_retention  median_delta_t     stability\n",
      "mean             0.831676    34050.882353  20756.588235\n",
      "median           0.856100      535.000000   1430.000000\n",
      "std              0.125670   124158.015206  60801.567192\n",
      "     average_retention  median_delta_t  stability\n",
      "0.0            0.51380           120.0       51.0\n",
      "0.1            0.64695           353.2      233.5\n",
      "0.2            0.76114           391.2      333.6\n",
      "0.3            0.79114           433.9      522.0\n",
      "0.4            0.82952           471.0      815.0\n",
      "0.5            0.85610           535.0     1430.0\n",
      "0.6            0.89684           606.4     2289.8\n",
      "0.7            0.91321           704.9     4246.1\n",
      "0.8            0.93022           925.6    14225.0\n",
      "0.9            0.96508         93312.0    59876.6\n",
      "1.0            1.00000        712927.0   342208.0\n"
     ]
    }
   ],
   "source": [
    "print(\"Unit: seconds\\n\")\n",
    "\n",
    "print(\n",
    "    df[(df[\"r_history\"] == \"1,2\")][\n",
    "        [\"average_retention\", \"median_delta_t\", \"stability\"]\n",
    "    ].agg([\"mean\", \"median\", \"std\"])\n",
    ")\n",
    "print(\n",
    "    df[(df[\"r_history\"] == \"1,2\")][\n",
    "        [\"average_retention\", \"median_delta_t\", \"stability\"]\n",
    "    ].quantile(np.linspace(0, 1, 11))\n",
    ")"
   ]
  },
  {
   "cell_type": "code",
   "execution_count": 7,
   "metadata": {},
   "outputs": [
    {
     "name": "stdout",
     "output_type": "stream",
     "text": [
      "Unit: seconds\n",
      "\n",
      "        average_retention  median_delta_t      stability\n",
      "mean             0.941659    86317.264706  309934.441176\n",
      "median           0.978850      968.000000   69605.500000\n",
      "std              0.081959   302474.196264  774513.630766\n",
      "     average_retention  median_delta_t  stability\n",
      "0.0            0.71790            39.0      162.0\n",
      "0.1            0.80831           330.8     5667.6\n",
      "0.2            0.88720           548.0    10412.8\n",
      "0.3            0.95812           750.8    20345.3\n",
      "0.4            0.96358           817.8    40420.2\n",
      "0.5            0.97885           968.0    69605.5\n",
      "0.6            0.98818          1216.4    96166.4\n",
      "0.7            0.99516          1521.1   135397.4\n",
      "0.8            1.00000         28610.8   251215.6\n",
      "0.9            1.00000         87755.6   707867.4\n",
      "1.0            1.00000       1609473.0  4283660.0\n"
     ]
    }
   ],
   "source": [
    "print(\"Unit: seconds\\n\")\n",
    "\n",
    "print(\n",
    "    df[(df[\"r_history\"] == \"3,2\")][\n",
    "        [\"average_retention\", \"median_delta_t\", \"stability\"]\n",
    "    ].agg([\"mean\", \"median\", \"std\"])\n",
    ")\n",
    "print(\n",
    "    df[(df[\"r_history\"] == \"3,2\")][\n",
    "        [\"average_retention\", \"median_delta_t\", \"stability\"]\n",
    "    ].quantile(np.linspace(0, 1, 11))\n",
    ")"
   ]
  }
 ],
 "metadata": {
  "kernelspec": {
   "display_name": "fsrs4anki",
   "language": "python",
   "name": "python3"
  },
  "language_info": {
   "codemirror_mode": {
    "name": "ipython",
    "version": 3
   },
   "file_extension": ".py",
   "mimetype": "text/x-python",
   "name": "python",
   "nbconvert_exporter": "python",
   "pygments_lexer": "ipython3",
   "version": "3.9.16"
  }
 },
 "nbformat": 4,
 "nbformat_minor": 2
}
