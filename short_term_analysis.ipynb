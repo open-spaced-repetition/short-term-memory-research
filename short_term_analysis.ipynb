{
 "cells": [
  {
   "cell_type": "code",
   "execution_count": 1,
   "metadata": {},
   "outputs": [
    {
     "name": "stdout",
     "output_type": "stream",
     "text": [
      "(667, 8)\n"
     ]
    }
   ],
   "source": [
    "import pandas as pd\n",
    "import numpy as np\n",
    "\n",
    "df = pd.read_csv(\"./short_term_stability.tsv\", sep=\"\\t\")\n",
    "print(df.shape)"
   ]
  },
  {
   "cell_type": "code",
   "execution_count": 2,
   "metadata": {},
   "outputs": [
    {
     "name": "stdout",
     "output_type": "stream",
     "text": [
      "(400, 8)\n"
     ]
    }
   ],
   "source": [
    "# Define the r_history values to filter\n",
    "r_history_values = [\"1\", \"2\", \"3\", \"1,2\", \"1,3\", \"3,2\"]\n",
    "\n",
    "# Group by user_id and filter\n",
    "filtered_user_ids = df.groupby(\"user\").filter(\n",
    "    lambda x: all(item in x[\"r_history\"].values for item in r_history_values)\n",
    ")\n",
    "\n",
    "# Extract the user_ids\n",
    "filtered_user_ids = filtered_user_ids[\"user\"].unique()\n",
    "\n",
    "# Filter the original DataFrame to keep only the filtered user_ids\n",
    "df = df[df[\"user\"].isin(filtered_user_ids)]\n",
    "\n",
    "print(df.shape)"
   ]
  },
  {
   "cell_type": "code",
   "execution_count": 3,
   "metadata": {},
   "outputs": [
    {
     "name": "stdout",
     "output_type": "stream",
     "text": [
      "Unit: seconds\n",
      "\n",
      "First Rating: Again\n",
      "        average_retention  average_delta_t   stability\n",
      "mean             0.750572      2335.406250   86.625000\n",
      "median           0.799250       131.500000   42.500000\n",
      "std              0.147190      7972.163186  120.517098\n",
      "First Rating: Hard\n",
      "        average_retention  average_delta_t      stability\n",
      "mean             0.933462     66574.312500   51441.562500\n",
      "median           0.957350       758.500000    2229.500000\n",
      "std              0.069808    209469.800196  196175.351802\n",
      "First Rating: Good\n",
      "        average_retention  average_delta_t      stability\n",
      "mean             0.972578      45517.34375  110721.593750\n",
      "median           0.981750        820.50000   13623.500000\n",
      "std              0.025519     214340.03358  441054.992066\n"
     ]
    }
   ],
   "source": [
    "print(\"Unit: seconds\\n\")\n",
    "\n",
    "print(\"First Rating: Again\")\n",
    "print(\n",
    "    df[(df[\"r_history\"] == \"1\")][\n",
    "        [\"average_retention\", \"average_delta_t\", \"stability\"]\n",
    "    ].agg([\"mean\", \"median\", \"std\"])\n",
    ")\n",
    "print(\"First Rating: Hard\")\n",
    "print(\n",
    "    df[(df[\"r_history\"] == \"2\")][\n",
    "        [\"average_retention\", \"average_delta_t\", \"stability\"]\n",
    "    ].agg([\"mean\", \"median\", \"std\"])\n",
    ")\n",
    "print(\"First Rating: Good\")\n",
    "print(\n",
    "    df[(df[\"r_history\"] == \"3\")][\n",
    "        [\"average_retention\", \"average_delta_t\", \"stability\"]\n",
    "    ].agg([\"mean\", \"median\", \"std\"])\n",
    ")"
   ]
  },
  {
   "cell_type": "code",
   "execution_count": 4,
   "metadata": {},
   "outputs": [
    {
     "name": "stdout",
     "output_type": "stream",
     "text": [
      "Unit: seconds\n",
      "\n",
      "     average_retention  average_delta_t  stability\n",
      "0.0            0.40540             76.0        4.0\n",
      "0.1            0.50391             85.5        7.6\n",
      "0.2            0.64326             96.8       20.0\n",
      "0.3            0.72831            106.2       26.2\n",
      "0.4            0.76990            120.0       37.0\n",
      "0.5            0.79925            131.5       42.5\n",
      "0.6            0.80504            140.8       53.6\n",
      "0.7            0.83319            154.7       88.3\n",
      "0.8            0.85154            276.0      129.0\n",
      "0.9            0.88663           1220.1      186.2\n",
      "1.0            0.95770          36810.0      618.0\n",
      "     average_retention  average_delta_t  stability\n",
      "0.0            0.73030            103.0      143.0\n",
      "0.1            0.84656            391.5      466.1\n",
      "0.2            0.90618            463.0      728.8\n",
      "0.3            0.92457            516.0     1323.2\n",
      "0.4            0.94006            647.6     1541.6\n",
      "0.5            0.95735            758.5     2229.5\n",
      "0.6            0.97040           1079.0     5034.2\n",
      "0.7            0.97406           2284.4     6959.4\n",
      "0.8            0.97796          21938.4    19959.8\n",
      "0.9            0.99217          40067.5    68347.7\n",
      "1.0            0.99930         944479.0  1111471.0\n",
      "     average_retention  average_delta_t  stability\n",
      "0.0            0.90620            117.0      131.0\n",
      "0.1            0.93981            517.4     1016.4\n",
      "0.2            0.95538            573.4     1967.4\n",
      "0.3            0.96081            657.3     4295.5\n",
      "0.4            0.96652            727.4     9678.2\n",
      "0.5            0.98175            820.5    13623.5\n",
      "0.6            0.98712           1137.8    18530.0\n",
      "0.7            0.99373           2969.8    35501.2\n",
      "0.8            0.99488          11107.8    76074.0\n",
      "0.9            0.99742          30962.3   131203.9\n",
      "1.0            1.00000        1216806.0  2514335.0\n"
     ]
    }
   ],
   "source": [
    "print(\"Unit: seconds\\n\")\n",
    "\n",
    "print(\n",
    "    df[(df[\"r_history\"] == \"1\")][\n",
    "        [\"average_retention\", \"average_delta_t\", \"stability\"]\n",
    "    ].quantile(np.linspace(0, 1, 11))\n",
    ")\n",
    "print(\n",
    "    df[(df[\"r_history\"] == \"2\")][\n",
    "        [\"average_retention\", \"average_delta_t\", \"stability\"]\n",
    "    ].quantile(np.linspace(0, 1, 11))\n",
    ")\n",
    "print(\n",
    "    df[(df[\"r_history\"] == \"3\")][\n",
    "        [\"average_retention\", \"average_delta_t\", \"stability\"]\n",
    "    ].quantile(np.linspace(0, 1, 11))\n",
    ")"
   ]
  },
  {
   "cell_type": "code",
   "execution_count": 5,
   "metadata": {},
   "outputs": [
    {
     "name": "stdout",
     "output_type": "stream",
     "text": [
      "Unit: seconds\n",
      "\n",
      "        average_retention  average_delta_t      stability\n",
      "mean             0.930116    119454.375000   51160.562500\n",
      "median           0.948050       939.000000    3608.000000\n",
      "std              0.066514    513638.659307  221435.156787\n",
      "     average_retention  average_delta_t  stability\n",
      "0.0            0.74080             79.0      149.0\n",
      "0.1            0.84555            324.1      275.0\n",
      "0.2            0.89488            570.6      611.6\n",
      "0.3            0.91259            653.9     1277.8\n",
      "0.4            0.93694            805.8     2587.6\n",
      "0.5            0.94805            939.0     3608.0\n",
      "0.6            0.95860           1434.8     5803.4\n",
      "0.7            0.97602           3264.7    11185.5\n",
      "0.8            0.98418          10125.2    20503.2\n",
      "0.9            0.99379          60438.2    43436.6\n",
      "1.0            1.00000        2854675.0  1259946.0\n"
     ]
    }
   ],
   "source": [
    "print(\"Unit: seconds\\n\")\n",
    "\n",
    "print(\n",
    "    df[(df[\"r_history\"] == \"1,3\")][\n",
    "        [\"average_retention\", \"average_delta_t\", \"stability\"]\n",
    "    ].agg([\"mean\", \"median\", \"std\"])\n",
    ")\n",
    "print(\n",
    "    df[(df[\"r_history\"] == \"1,3\")][\n",
    "        [\"average_retention\", \"average_delta_t\", \"stability\"]\n",
    "    ].quantile(np.linspace(0, 1, 11))\n",
    ")"
   ]
  },
  {
   "cell_type": "code",
   "execution_count": 6,
   "metadata": {},
   "outputs": [
    {
     "name": "stdout",
     "output_type": "stream",
     "text": [
      "Unit: seconds\n",
      "\n",
      "        average_retention  average_delta_t     stability\n",
      "mean             0.859450      37710.81250   9970.562500\n",
      "median           0.899500        630.50000    608.500000\n",
      "std              0.128735     143518.68286  27433.451059\n",
      "     average_retention  average_delta_t  stability\n",
      "0.0            0.48760            158.0       33.0\n",
      "0.1            0.69510            336.2       96.3\n",
      "0.2            0.80908            415.4      203.2\n",
      "0.3            0.83717            491.2      300.7\n",
      "0.4            0.87066            534.2      323.8\n",
      "0.5            0.89950            630.5      608.5\n",
      "0.6            0.91964            796.0      939.4\n",
      "0.7            0.93624           1526.8     1895.9\n",
      "0.8            0.96072          11759.4     4053.8\n",
      "0.9            0.97531          58251.5    20018.4\n",
      "1.0            1.00000         805777.0   135929.0\n"
     ]
    }
   ],
   "source": [
    "print(\"Unit: seconds\\n\")\n",
    "\n",
    "print(\n",
    "    df[(df[\"r_history\"] == \"1,2\")][\n",
    "        [\"average_retention\", \"average_delta_t\", \"stability\"]\n",
    "    ].agg([\"mean\", \"median\", \"std\"])\n",
    ")\n",
    "print(\n",
    "    df[(df[\"r_history\"] == \"1,2\")][\n",
    "        [\"average_retention\", \"average_delta_t\", \"stability\"]\n",
    "    ].quantile(np.linspace(0, 1, 11))\n",
    ")"
   ]
  },
  {
   "cell_type": "code",
   "execution_count": 7,
   "metadata": {},
   "outputs": [
    {
     "name": "stdout",
     "output_type": "stream",
     "text": [
      "Unit: seconds\n",
      "\n",
      "        average_retention  average_delta_t     stability\n",
      "mean             0.955897     83091.031250  100890.81250\n",
      "median           0.992950      2020.500000   20788.50000\n",
      "std              0.070868    273855.659436  257835.18126\n",
      "     average_retention  average_delta_t  stability\n",
      "0.0            0.74550             30.0      191.0\n",
      "0.1            0.88122            306.4     1906.3\n",
      "0.2            0.90750            689.0     4826.4\n",
      "0.3            0.96183            813.5     8470.1\n",
      "0.4            0.98068           1778.8    16319.0\n",
      "0.5            0.99295           2020.5    20788.5\n",
      "0.6            0.99928           5687.0    26406.4\n",
      "0.7            1.00000          19146.9    41832.6\n",
      "0.8            1.00000          29254.2    62256.0\n",
      "0.9            1.00000          82613.1   298800.9\n",
      "1.0            1.00000        1380147.0  1348462.0\n"
     ]
    }
   ],
   "source": [
    "print(\"Unit: seconds\\n\")\n",
    "\n",
    "print(\n",
    "    df[(df[\"r_history\"] == \"3,2\")][\n",
    "        [\"average_retention\", \"average_delta_t\", \"stability\"]\n",
    "    ].agg([\"mean\", \"median\", \"std\"])\n",
    ")\n",
    "print(\n",
    "    df[(df[\"r_history\"] == \"3,2\")][\n",
    "        [\"average_retention\", \"average_delta_t\", \"stability\"]\n",
    "    ].quantile(np.linspace(0, 1, 11))\n",
    ")"
   ]
  }
 ],
 "metadata": {
  "kernelspec": {
   "display_name": "fsrs4anki",
   "language": "python",
   "name": "python3"
  },
  "language_info": {
   "codemirror_mode": {
    "name": "ipython",
    "version": 3
   },
   "file_extension": ".py",
   "mimetype": "text/x-python",
   "name": "python",
   "nbconvert_exporter": "python",
   "pygments_lexer": "ipython3",
   "version": "3.9.16"
  }
 },
 "nbformat": 4,
 "nbformat_minor": 2
}
