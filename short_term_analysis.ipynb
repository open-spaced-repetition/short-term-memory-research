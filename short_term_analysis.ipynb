{
 "cells": [
  {
   "cell_type": "code",
   "execution_count": 1,
   "metadata": {},
   "outputs": [],
   "source": [
    "import pandas as pd\n",
    "import numpy as np\n",
    "\n",
    "df = pd.read_csv(\"./short_term_stability.tsv\", sep=\"\\t\")"
   ]
  },
  {
   "cell_type": "code",
   "execution_count": 2,
   "metadata": {},
   "outputs": [
    {
     "name": "stdout",
     "output_type": "stream",
     "text": [
      "Unit: seconds\n",
      "\n",
      "        average_retention  average_delta_t    stability\n",
      "mean             0.736966      3686.171875   715.359375\n",
      "median           0.761650       115.000000    38.000000\n",
      "std              0.159831     14238.835890  3882.713543\n",
      "        average_retention  average_delta_t      stability\n",
      "mean             0.942355     2.784413e+05   53497.316667\n",
      "median           0.973850     7.600000e+02    5468.500000\n",
      "std              0.070639     1.961581e+06  159814.974061\n",
      "        average_retention  average_delta_t      stability\n",
      "mean             0.946780     39802.296875  101643.984375\n",
      "median           0.972400      1045.000000    7737.500000\n",
      "std              0.092806    142540.016278  319990.590970\n"
     ]
    }
   ],
   "source": [
    "print(\"Unit: seconds\\n\")\n",
    "\n",
    "print(df[(df[\"r_history\"] == \"1\")][[\"average_retention\", \"average_delta_t\", \"stability\"]].agg([\"mean\", \"median\", \"std\"]))\n",
    "print(df[(df[\"r_history\"] == \"2\")][[\"average_retention\", \"average_delta_t\", \"stability\"]].agg([\"mean\", \"median\", \"std\"]))\n",
    "print(df[(df[\"r_history\"] == \"3\")][[\"average_retention\", \"average_delta_t\", \"stability\"]].agg([\"mean\", \"median\", \"std\"]))"
   ]
  },
  {
   "cell_type": "code",
   "execution_count": 3,
   "metadata": {},
   "outputs": [
    {
     "name": "stdout",
     "output_type": "stream",
     "text": [
      "Unit: seconds\n",
      "\n",
      "     average_retention  average_delta_t  stability\n",
      "0.0            0.32580             42.0        2.0\n",
      "0.1            0.50089             75.0       10.6\n",
      "0.2            0.62602             85.0       18.0\n",
      "0.3            0.68377             92.0       22.8\n",
      "0.4            0.72220            105.2       27.0\n",
      "0.5            0.76165            115.0       38.0\n",
      "0.6            0.79138            160.4       50.2\n",
      "0.7            0.84246            257.5       68.1\n",
      "0.8            0.87282            664.0      140.6\n",
      "0.9            0.90021           8660.6      320.2\n",
      "1.0            1.00000         108566.0    30345.0\n",
      "     average_retention  average_delta_t  stability\n",
      "0.0            0.73330             12.0      103.0\n",
      "0.1            0.84472            207.5      257.5\n",
      "0.2            0.88782            323.8      560.8\n",
      "0.3            0.93425            431.0      943.1\n",
      "0.4            0.94656            486.0     1571.8\n",
      "0.5            0.97385            760.0     5468.5\n",
      "0.6            0.98166           1638.2    12013.6\n",
      "0.7            0.99881           5768.4    19705.3\n",
      "0.8            1.00000          19017.0    40686.0\n",
      "0.9            1.00000          78992.3    84960.4\n",
      "1.0            1.00000       15206799.0   921455.0\n",
      "     average_retention  average_delta_t  stability\n",
      "0.0            0.38600             65.0        6.0\n",
      "0.1            0.88477            234.6      796.8\n",
      "0.2            0.93248            369.0     1228.4\n",
      "0.3            0.95447            524.3     1862.8\n",
      "0.4            0.96342            719.2     2863.0\n",
      "0.5            0.97240           1045.0     7737.5\n",
      "0.6            0.97994           1788.0    21509.6\n",
      "0.7            0.98532           6498.9    34990.2\n",
      "0.8            0.99350          31580.4    68251.8\n",
      "0.9            0.99856          67167.4   225147.9\n",
      "1.0            1.00000        1053830.0  2271992.0\n"
     ]
    }
   ],
   "source": [
    "print(\"Unit: seconds\\n\")\n",
    "\n",
    "print(df[(df[\"r_history\"] == \"1\")][[\"average_retention\", \"average_delta_t\", \"stability\"]].quantile(np.linspace(0, 1, 11)))\n",
    "print(df[(df[\"r_history\"] == \"2\")][[\"average_retention\", \"average_delta_t\", \"stability\"]].quantile(np.linspace(0, 1, 11)))\n",
    "print(df[(df[\"r_history\"] == \"3\")][[\"average_retention\", \"average_delta_t\", \"stability\"]].quantile(np.linspace(0, 1, 11)))"
   ]
  },
  {
   "cell_type": "code",
   "execution_count": 4,
   "metadata": {},
   "outputs": [
    {
     "name": "stdout",
     "output_type": "stream",
     "text": [
      "Unit: seconds\n",
      "\n",
      "        average_retention  average_delta_t     stability\n",
      "mean             0.894909     35016.015625  16121.484375\n",
      "median           0.907450       918.000000   1440.000000\n",
      "std              0.102760    118311.511591  38555.629773\n",
      "     average_retention  average_delta_t  stability\n",
      "0.0            0.33800             45.0        2.0\n",
      "0.1            0.82154            268.0      253.5\n",
      "0.2            0.85904            454.8      492.2\n",
      "0.3            0.87454            604.5      576.7\n",
      "0.4            0.88256            733.8      933.4\n",
      "0.5            0.90745            918.0     1440.0\n",
      "0.6            0.92596           1494.8     2709.8\n",
      "0.7            0.95037           6148.9     9345.7\n",
      "0.8            0.96592          21865.6    20895.0\n",
      "0.9            0.99340          81135.6    43882.6\n",
      "1.0            1.00000         864512.0   247129.0\n"
     ]
    }
   ],
   "source": [
    "print(\"Unit: seconds\\n\")\n",
    "\n",
    "print(df[(df[\"r_history\"] == \"1,3\")][[\"average_retention\", \"average_delta_t\", \"stability\"]].agg([\"mean\", \"median\", \"std\"]))\n",
    "print(df[(df[\"r_history\"] == \"1,3\")][[\"average_retention\", \"average_delta_t\", \"stability\"]].quantile(np.linspace(0, 1, 11)))"
   ]
  }
 ],
 "metadata": {
  "kernelspec": {
   "display_name": "fsrs4anki",
   "language": "python",
   "name": "python3"
  },
  "language_info": {
   "codemirror_mode": {
    "name": "ipython",
    "version": 3
   },
   "file_extension": ".py",
   "mimetype": "text/x-python",
   "name": "python",
   "nbconvert_exporter": "python",
   "pygments_lexer": "ipython3",
   "version": "3.9.16"
  }
 },
 "nbformat": 4,
 "nbformat_minor": 2
}
