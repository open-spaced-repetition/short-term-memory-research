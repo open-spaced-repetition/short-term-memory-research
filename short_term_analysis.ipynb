{
 "cells": [
  {
   "cell_type": "code",
   "execution_count": 1,
   "metadata": {},
   "outputs": [],
   "source": [
    "import pandas as pd\n",
    "import numpy as np\n",
    "\n",
    "df = pd.read_csv(\"./short_term_stability.tsv\", sep=\"\\t\")"
   ]
  },
  {
   "cell_type": "code",
   "execution_count": 2,
   "metadata": {},
   "outputs": [
    {
     "name": "stdout",
     "output_type": "stream",
     "text": [
      "Unit: seconds\n",
      "\n",
      "        average_retention  average_delta_t   stability\n",
      "mean             0.730273      3576.467742  246.258065\n",
      "median           0.756000       112.500000   35.500000\n",
      "std              0.157560     14411.811152  974.240064\n",
      "        average_retention  average_delta_t      stability\n",
      "mean             0.934742     3.150077e+05   59754.415094\n",
      "median           0.952400     7.770000e+02    5634.000000\n",
      "std              0.071799     2.086646e+06  169217.481513\n",
      "        average_retention  average_delta_t      stability\n",
      "mean             0.946780     39802.296875  101643.984375\n",
      "median           0.972400      1045.000000    7737.500000\n",
      "std              0.092806    142540.016278  319990.590970\n"
     ]
    }
   ],
   "source": [
    "print(\"Unit: seconds\\n\")\n",
    "\n",
    "print(df[(df[\"r_history\"] == \"1\")][[\"average_retention\", \"average_delta_t\", \"stability\"]].agg([\"mean\", \"median\", \"std\"]))\n",
    "print(df[(df[\"r_history\"] == \"2\")][[\"average_retention\", \"average_delta_t\", \"stability\"]].agg([\"mean\", \"median\", \"std\"]))\n",
    "print(df[(df[\"r_history\"] == \"3\")][[\"average_retention\", \"average_delta_t\", \"stability\"]].agg([\"mean\", \"median\", \"std\"]))"
   ]
  },
  {
   "cell_type": "code",
   "execution_count": 3,
   "metadata": {},
   "outputs": [
    {
     "name": "stdout",
     "output_type": "stream",
     "text": [
      "Unit: seconds\n",
      "\n",
      "     average_retention  average_delta_t  stability\n",
      "0.0            0.32580             42.0        2.0\n",
      "0.1            0.50023             75.0       10.2\n",
      "0.2            0.61974             85.0       18.0\n",
      "0.3            0.66439             92.0       21.6\n",
      "0.4            0.72012            103.8       26.4\n",
      "0.5            0.75600            112.5       35.5\n",
      "0.6            0.78926            149.6       46.2\n",
      "0.7            0.83778            209.4       63.7\n",
      "0.8            0.85682            521.4      123.2\n",
      "0.9            0.89889           6528.0      285.5\n",
      "1.0            1.00000         108566.0     7321.0\n",
      "     average_retention  average_delta_t  stability\n",
      "0.0            0.73330             47.0      103.0\n",
      "0.1            0.83436            224.8      247.0\n",
      "0.2            0.88140            311.4      544.4\n",
      "0.3            0.91808            450.2      817.6\n",
      "0.4            0.94420            486.0     1494.8\n",
      "0.5            0.95240            777.0     5634.0\n",
      "0.6            0.97492           1456.8    13621.6\n",
      "0.7            0.98460          11470.0    23255.6\n",
      "0.8            0.99932          28002.6    48664.0\n",
      "0.9            1.00000          85476.4    88680.2\n",
      "1.0            1.00000       15206799.0   921455.0\n",
      "     average_retention  average_delta_t  stability\n",
      "0.0            0.38600             65.0        6.0\n",
      "0.1            0.88477            234.6      796.8\n",
      "0.2            0.93248            369.0     1228.4\n",
      "0.3            0.95447            524.3     1862.8\n",
      "0.4            0.96342            719.2     2863.0\n",
      "0.5            0.97240           1045.0     7737.5\n",
      "0.6            0.97994           1788.0    21509.6\n",
      "0.7            0.98532           6498.9    34990.2\n",
      "0.8            0.99350          31580.4    68251.8\n",
      "0.9            0.99856          67167.4   225147.9\n",
      "1.0            1.00000        1053830.0  2271992.0\n"
     ]
    }
   ],
   "source": [
    "print(\"Unit: seconds\\n\")\n",
    "\n",
    "print(df[(df[\"r_history\"] == \"1\")][[\"average_retention\", \"average_delta_t\", \"stability\"]].quantile(np.linspace(0, 1, 11)))\n",
    "print(df[(df[\"r_history\"] == \"2\")][[\"average_retention\", \"average_delta_t\", \"stability\"]].quantile(np.linspace(0, 1, 11)))\n",
    "print(df[(df[\"r_history\"] == \"3\")][[\"average_retention\", \"average_delta_t\", \"stability\"]].quantile(np.linspace(0, 1, 11)))"
   ]
  },
  {
   "cell_type": "code",
   "execution_count": 4,
   "metadata": {},
   "outputs": [
    {
     "name": "stdout",
     "output_type": "stream",
     "text": [
      "Unit: seconds\n",
      "\n",
      "        average_retention  average_delta_t     stability\n",
      "mean             0.891251     34212.118644  15867.101695\n",
      "median           0.904000       908.000000   1297.000000\n",
      "std              0.103899    120680.774519  39551.749224\n",
      "     average_retention  average_delta_t  stability\n",
      "0.0            0.33800             45.0        2.0\n",
      "0.1            0.81368            278.0      291.0\n",
      "0.2            0.85994            454.8      492.2\n",
      "0.3            0.87608            597.0      570.2\n",
      "0.4            0.88256            733.8      855.4\n",
      "0.5            0.90400            908.0     1297.0\n",
      "0.6            0.92402           1452.8     2092.8\n",
      "0.7            0.94578           6243.4     8875.4\n",
      "0.8            0.96074          21865.6    20608.2\n",
      "0.9            0.97802          79981.6    43603.6\n",
      "1.0            1.00000         864512.0   247129.0\n"
     ]
    }
   ],
   "source": [
    "print(\"Unit: seconds\\n\")\n",
    "\n",
    "print(df[(df[\"r_history\"] == \"1,3\")][[\"average_retention\", \"average_delta_t\", \"stability\"]].agg([\"mean\", \"median\", \"std\"]))\n",
    "print(df[(df[\"r_history\"] == \"1,3\")][[\"average_retention\", \"average_delta_t\", \"stability\"]].quantile(np.linspace(0, 1, 11)))"
   ]
  }
 ],
 "metadata": {
  "kernelspec": {
   "display_name": "fsrs4anki",
   "language": "python",
   "name": "python3"
  },
  "language_info": {
   "codemirror_mode": {
    "name": "ipython",
    "version": 3
   },
   "file_extension": ".py",
   "mimetype": "text/x-python",
   "name": "python",
   "nbconvert_exporter": "python",
   "pygments_lexer": "ipython3",
   "version": "3.9.16"
  }
 },
 "nbformat": 4,
 "nbformat_minor": 2
}
